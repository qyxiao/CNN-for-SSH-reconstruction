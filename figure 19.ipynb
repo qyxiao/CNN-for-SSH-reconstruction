{
 "cells": [
  {
   "cell_type": "code",
   "execution_count": 1,
   "metadata": {},
   "outputs": [],
   "source": [
    "from torch import nn\n",
    "import torch\n",
    "import torch.optim as optim\n",
    "from torch.utils.data import Dataset\n",
    "import numpy as np\n",
    "import matplotlib.pyplot as plt\n",
    "import torch.nn.functional as F\n",
    "\n",
    "import xarray as xr\n",
    "import time"
   ]
  },
  {
   "cell_type": "code",
   "execution_count": 2,
   "metadata": {},
   "outputs": [],
   "source": [
    "plt.rcParams.update({'font.size': 22})"
   ]
  },
  {
   "cell_type": "markdown",
   "metadata": {},
   "source": [
    "# define functions to calculate CKA"
   ]
  },
  {
   "cell_type": "code",
   "execution_count": 40,
   "metadata": {},
   "outputs": [],
   "source": [
    "def unbiased_HSIC(K, L):\n",
    "  #Computes an unbiased estimator of HISC.\n",
    "\n",
    "  #create the unit **vector** filled with ones\n",
    "    n = K.shape[0]\n",
    "    ones = np.ones(shape=(n))\n",
    "\n",
    "  #fill the diagonal entries with zeros \n",
    "    np.fill_diagonal(K, val=0) #this is now K_tilde \n",
    "    np.fill_diagonal(L, val=0) #this is now L_tilde\n",
    "\n",
    "  #first part in the square brackets\n",
    "    trace = np.trace(np.dot(K, L))\n",
    "\n",
    "  #middle part in the square brackets\n",
    "    nominator1 = np.dot(np.dot(ones.T, K), ones)\n",
    "    nominator2 = np.dot(np.dot(ones.T, L), ones)\n",
    "    denominator = (n-1)*(n-2)\n",
    "    middle = np.dot(nominator1, nominator2) / denominator\n",
    "  \n",
    "  \n",
    "  #third part in the square brackets\n",
    "    multiplier1 = 2/(n-2)\n",
    "    multiplier2 = np.dot(np.dot(ones.T, K), np.dot(L, ones))\n",
    "    last = multiplier1 * multiplier2\n",
    "\n",
    "  #complete equation\n",
    "    unbiased_hsic = 1/(n*(n-3)) * (trace + middle - last)\n",
    "\n",
    "    return unbiased_hsic"
   ]
  },
  {
   "cell_type": "code",
   "execution_count": 3,
   "metadata": {},
   "outputs": [],
   "source": [
    "def CKA(X, Y):\n",
    "    \n",
    "    nominator = unbiased_HSIC(np.dot(X, X.T), np.dot(Y, Y.T))\n",
    "    denominator1 = unbiased_HSIC(np.dot(X, X.T), np.dot(X, X.T))\n",
    "    denominator2 = unbiased_HSIC(np.dot(Y, Y.T), np.dot(Y, Y.T))\n",
    "\n",
    "    cka = nominator/np.sqrt(denominator1*denominator2)\n",
    "\n",
    "    return cka"
   ]
  },
  {
   "cell_type": "markdown",
   "metadata": {},
   "source": [
    "# define and load trained models"
   ]
  },
  {
   "cell_type": "code",
   "execution_count": 4,
   "metadata": {},
   "outputs": [],
   "source": [
    "class UNet(nn.Module):\n",
    "    def contracting_block(self, in_channels, out_channels, kernel_size=3):\n",
    "        block = torch.nn.Sequential(\n",
    "                    torch.nn.Conv2d(kernel_size=kernel_size, in_channels=in_channels, out_channels=out_channels, padding = 1),\n",
    "                    torch.nn.SELU(),\n",
    "                    torch.nn.BatchNorm2d(out_channels),\n",
    "                    torch.nn.Conv2d(kernel_size=kernel_size, in_channels=out_channels, out_channels=out_channels, padding = 1),\n",
    "                    torch.nn.SELU(),\n",
    "                    torch.nn.BatchNorm2d(out_channels),\n",
    "                )\n",
    "        return block\n",
    "    \n",
    "    def expansive_block(self, in_channels, mid_channel, out_channels, kernel_size=3):\n",
    "            block = torch.nn.Sequential(\n",
    "                    torch.nn.Conv2d(kernel_size=kernel_size, in_channels=in_channels, out_channels=mid_channel, padding = 1),\n",
    "                    torch.nn.SELU(),\n",
    "                    torch.nn.BatchNorm2d(mid_channel),\n",
    "                    torch.nn.Conv2d(kernel_size=kernel_size, in_channels=mid_channel, out_channels=out_channels, padding = 1),\n",
    "                    torch.nn.SELU(),\n",
    "                    torch.nn.BatchNorm2d(out_channels),\n",
    "                    torch.nn.Upsample(scale_factor=2, mode='nearest'),\n",
    "                    torch.nn.Conv2d(kernel_size=3, in_channels=out_channels, out_channels=out_channels, padding = 1),\n",
    "                    torch.nn.SELU(),\n",
    "                    torch.nn.BatchNorm2d(out_channels),\n",
    "#                     torch.nn.ConvTranspose2d(in_channels=mid_channel, out_channels=out_channels, kernel_size=3, stride=2, padding=1, output_padding=1) ## padding?\n",
    "                    )\n",
    "            return  block\n",
    "    \n",
    "    def final_block(self, in_channels, mid_channel, out_channels, kernel_size=3):\n",
    "            block = torch.nn.Sequential(\n",
    "                    torch.nn.Conv2d(kernel_size=kernel_size, in_channels=in_channels, out_channels=mid_channel, padding = 1),\n",
    "                    torch.nn.SELU(),\n",
    "                    torch.nn.BatchNorm2d(mid_channel),\n",
    "                    torch.nn.Conv2d(kernel_size=kernel_size, in_channels=mid_channel, out_channels=mid_channel, padding = 1),\n",
    "                    torch.nn.SELU(),\n",
    "                    torch.nn.BatchNorm2d(mid_channel),\n",
    "                    torch.nn.Conv2d(kernel_size=kernel_size, in_channels=mid_channel, out_channels=out_channels, padding=1),\n",
    "                    torch.nn.SELU(),\n",
    "                    torch.nn.BatchNorm2d(out_channels),\n",
    "                    )\n",
    "            return  block\n",
    "    \n",
    "    def __init__(self, in_channel, out_channel):\n",
    "        super(UNet, self).__init__()\n",
    "        #Encode\n",
    "        self.conv_encode1 = self.contracting_block(in_channels=in_channel, out_channels=32)\n",
    "        self.conv_maxpool1 = torch.nn.MaxPool2d(kernel_size=2)\n",
    "        self.conv_encode2 = self.contracting_block(32, 64)\n",
    "        self.conv_maxpool2 = torch.nn.MaxPool2d(kernel_size=2)\n",
    "        self.conv_encode3 = self.contracting_block(64, 128)\n",
    "        self.conv_maxpool3 = torch.nn.MaxPool2d(kernel_size=2)\n",
    "        # Bottleneck\n",
    "        self.bottleneck = torch.nn.Sequential(\n",
    "                            torch.nn.Conv2d(kernel_size=3, in_channels=128, out_channels=128, padding = 1),\n",
    "                            torch.nn.SELU(),\n",
    "                            torch.nn.BatchNorm2d(128),\n",
    "                            torch.nn.Conv2d(kernel_size=3, in_channels=128, out_channels=128, padding = 1),\n",
    "                            torch.nn.SELU(),\n",
    "                            torch.nn.BatchNorm2d(128),\n",
    "                            torch.nn.Upsample(scale_factor=2, mode='nearest'),\n",
    "                            torch.nn.Conv2d(kernel_size=3, in_channels=128, out_channels=128, padding = 1),\n",
    "                            torch.nn.SELU(),\n",
    "                            torch.nn.BatchNorm2d(128),\n",
    "                            )\n",
    "        # Decode\n",
    "        self.conv_decode3 = self.expansive_block(256, 128, 64)\n",
    "        self.conv_decode2 = self.expansive_block(128, 64, 32)\n",
    "        self.final_layer = self.final_block(64, 32, out_channel)\n",
    "        \n",
    "    def crop_and_concat(self, upsampled, bypass, crop=False):\n",
    "        if crop:\n",
    "            c = (bypass.size()[2] - upsampled.size()[2]) // 2\n",
    "            bypass = F.pad(bypass, (-c, -c, -c, -c))\n",
    "        return torch.cat((upsampled, bypass), 1)\n",
    "    \n",
    "    def forward(self, x):\n",
    "        # Encode\n",
    "        encode_block1 = self.conv_encode1(x)\n",
    "        encode_pool1 = self.conv_maxpool1(encode_block1)\n",
    "        encode_block2 = self.conv_encode2(encode_pool1)\n",
    "        encode_pool2 = self.conv_maxpool2(encode_block2)\n",
    "        encode_block3 = self.conv_encode3(encode_pool2)\n",
    "        encode_pool3 = self.conv_maxpool3(encode_block3)\n",
    "        # Bottleneck\n",
    "        bottleneck1 = self.bottleneck(encode_pool3)\n",
    "        # Decode\n",
    "        decode_block3 = self.crop_and_concat(bottleneck1, encode_block3, crop=True) ### false should work?\n",
    "        cat_layer2 = self.conv_decode3(decode_block3)\n",
    "        decode_block2 = self.crop_and_concat(cat_layer2, encode_block2, crop=True)\n",
    "        cat_layer1 = self.conv_decode2(decode_block2)\n",
    "        decode_block1 = self.crop_and_concat(cat_layer1, encode_block1, crop=True)\n",
    "        final_layer = self.final_layer(decode_block1)\n",
    "        return  final_layer"
   ]
  },
  {
   "cell_type": "code",
   "execution_count": 5,
   "metadata": {},
   "outputs": [
    {
     "data": {
      "text/plain": [
       "<All keys matched successfully>"
      ]
     },
     "execution_count": 5,
     "metadata": {},
     "output_type": "execute_result"
    }
   ],
   "source": [
    "modelpre = UNet(in_channel = 1, out_channel = 1)\n",
    "modelpre.load_state_dict(torch.load('../CNN_surface/basic_models/vort_Unet_mae_nSST'))\n",
    "\n",
    "\n",
    "modelpre10000 = UNet(in_channel = 1, out_channel = 1)\n",
    "modelpre10000.load_state_dict(torch.load('../CNN_LLCsummer/models/trains_dhruv'))\n",
    "\n",
    "\n",
    "modelrand10000 = UNet(in_channel = 1, out_channel = 1)\n",
    "modelrand10000.load_state_dict(torch.load('../CNN_LLCsummer/models/trains_rand'))\n",
    "\n",
    "\n",
    "modelprefull= UNet(in_channel = 1, out_channel = 1)\n",
    "modelprefull.load_state_dict(torch.load('../CNN_LLCsummer/models/trains_dhruv_full'))\n",
    "\n",
    "\n",
    "modelrandfull = UNet(in_channel = 1, out_channel = 1)\n",
    "modelrandfull.load_state_dict(torch.load('../CNN_LLCsummer/models/trains_rand_full'))\n"
   ]
  },
  {
   "cell_type": "code",
   "execution_count": null,
   "metadata": {},
   "outputs": [],
   "source": []
  },
  {
   "cell_type": "markdown",
   "metadata": {},
   "source": [
    "# load test input"
   ]
  },
  {
   "cell_type": "code",
   "execution_count": 11,
   "metadata": {},
   "outputs": [],
   "source": [
    "Eta_test = np.load('../CNN_LLCsummer/dataCollection4/Eta_r3_winter.npy')\n",
    "Eta_test_reshape =  np.reshape(np.array(np.split(np.array(np.split(Eta_test[:40,16:784,16:784], 12, axis=2)), 12, axis=2)), (12*12*40, 64, 64))\n",
    "input1 =  torch.tensor(np.expand_dims(Eta_test_reshape_nonan[:100,:,:], axis=1))"
   ]
  },
  {
   "cell_type": "code",
   "execution_count": null,
   "metadata": {},
   "outputs": [],
   "source": []
  },
  {
   "cell_type": "markdown",
   "metadata": {},
   "source": [
    "# get outputs from different layers of different models"
   ]
  },
  {
   "cell_type": "code",
   "execution_count": null,
   "metadata": {},
   "outputs": [],
   "source": [
    "def layers_output(model, input_data):\n",
    "    model.eval()\n",
    "    output1 = model.layer_output(input_data, 1).detach().numpy()\n",
    "    output1 = output1.reshape((-1, np.product(output1.shape[1:])))\n",
    "    \n",
    "    output2 = model.layer_output(input_data, 2).detach().numpy()\n",
    "    output2 = output2.reshape((-1, np.product(output2.shape[1:])))\n",
    "\n",
    "    output3 = model.layer_output(input_data, 3).detach().numpy()\n",
    "    output3 = output3.reshape((-1, np.product(output3.shape[1:])))\n",
    "\n",
    "    output4 = model.layer_output(input_data, 4).detach().numpy()\n",
    "    output4 = output4.reshape((-1, np.product(output4.shape[1:])))\n",
    "\n",
    "    output5 = model.layer_output(input_data, 5).detach().numpy()\n",
    "    output5 = output5.reshape((-1, np.product(output5.shape[1:])))\n",
    "\n",
    "    output6 = model.layer_output(input_data, 6).detach().numpy()\n",
    "    output6 = output6.reshape((-1, np.product(output6.shape[1:])))\n",
    "    \n",
    "    return [output1, output2, output3, output4, output5, output6]"
   ]
  },
  {
   "cell_type": "code",
   "execution_count": 16,
   "metadata": {},
   "outputs": [],
   "source": [
    "output_pre = layers_output(modelpre, input1)  \n",
    "output_pre10000 = layers_output(modelpre10000, input1)  \n",
    "output_rand10000 = layers_output(modelrand10000, input1)  \n",
    "output_prefull = layers_output(modelprefull, input1)  \n",
    "output_randfull = layers_output(modelrandfull, input1)  "
   ]
  },
  {
   "cell_type": "code",
   "execution_count": null,
   "metadata": {},
   "outputs": [],
   "source": []
  },
  {
   "cell_type": "markdown",
   "metadata": {},
   "source": [
    "# get CKA between different models"
   ]
  },
  {
   "cell_type": "code",
   "execution_count": 18,
   "metadata": {},
   "outputs": [],
   "source": [
    "result_pre_pre10000 = np.zeros(shape=(6, 6))\n",
    "for i in range(6):\n",
    "    for j in range(6):\n",
    "        result_pre_pre10000[i, j] = CKA(output_pre[i], output_pre10000[j])"
   ]
  },
  {
   "cell_type": "code",
   "execution_count": 19,
   "metadata": {},
   "outputs": [],
   "source": [
    "result_pre10000_rand10000 = np.zeros(shape=(6, 6))\n",
    "for i in range(6):\n",
    "    for j in range(6):\n",
    "        result_pre10000_rand10000[i, j] = CKA(output_pre10000[i], output_rand10000[j])"
   ]
  },
  {
   "cell_type": "code",
   "execution_count": 20,
   "metadata": {},
   "outputs": [],
   "source": [
    "result_prefull_randfull = np.zeros(shape=(6, 6))\n",
    "for i in range(6):\n",
    "    for j in range(6):\n",
    "        result_prefull_randfull[i, j] = CKA(output_prefull[i], output_randfull[j])"
   ]
  },
  {
   "cell_type": "code",
   "execution_count": 21,
   "metadata": {},
   "outputs": [],
   "source": [
    "result_pre_prefull = np.zeros(shape=(6, 6))\n",
    "for i in range(6):\n",
    "    for j in range(6):\n",
    "        result_pre_prefull[i, j] = CKA(output_pre[i], output_prefull[j])"
   ]
  },
  {
   "cell_type": "code",
   "execution_count": 61,
   "metadata": {},
   "outputs": [
    {
     "data": {
      "image/png": "[encoded data removed]",
      "text/plain": [
       "<Figure size 1080x1080 with 8 Axes>"
      ]
     },
     "metadata": {
      "needs_background": "light"
     },
     "output_type": "display_data"
    }
   ],
   "source": [
    "plt.figure(figsize=(15, 15))\n",
    "\n",
    "plt.subplot(221)\n",
    "plt.imshow(result_pre_pre10000, cmap='magma', vmin=0.0,vmax=1.0)\n",
    "plt.colorbar()\n",
    "plt.gca().invert_yaxis()\n",
    "plt.xlabel('CS-10000 layers')\n",
    "plt.ylabel('CS-0 layers')\n",
    "\n",
    "\n",
    "plt.subplot(222)\n",
    "plt.imshow(result_pre_prefull, cmap='magma', vmin=0.0,vmax=1.0)\n",
    "plt.colorbar()\n",
    "plt.gca().invert_yaxis()\n",
    "plt.xlabel('CS-50000 layers')\n",
    "plt.ylabel('CS-0 layers')\n",
    "\n",
    "\n",
    "\n",
    "plt.subplot(223)\n",
    "plt.imshow(result_pre10000_rand10000, cmap='magma', vmin=0.0,vmax=1.0)\n",
    "plt.colorbar()\n",
    "plt.gca().invert_yaxis()\n",
    "plt.xlabel('scratch-10000 layers')\n",
    "plt.ylabel('CS-10000 layers')\n",
    "\n",
    "\n",
    "\n",
    "plt.subplot(224)\n",
    "plt.imshow(result_prefull_randfull, cmap='magma', vmin=0.0,vmax=1.0)\n",
    "plt.colorbar()\n",
    "plt.gca().invert_yaxis()\n",
    "plt.xlabel('scratch-50000 layers')\n",
    "plt.ylabel('CS-50000 layers')\n",
    "\n",
    "plt.savefig(\"fig21-1.pdf\", bbox_inches = \"tight\")"
   ]
  },
  {
   "cell_type": "code",
   "execution_count": null,
   "metadata": {},
   "outputs": [],
   "source": []
  }
 ],
 "metadata": {
  "kernelspec": {
   "display_name": "Python [conda env:mitgcm]",
   "language": "python",
   "name": "conda-env-mitgcm-py"
  },
  "language_info": {
   "codemirror_mode": {
    "name": "ipython",
    "version": 3
   },
   "file_extension": ".py",
   "mimetype": "text/x-python",
   "name": "python",
   "nbconvert_exporter": "python",
   "pygments_lexer": "ipython3",
   "version": "3.6.13"
  }
 },
 "nbformat": 4,
 "nbformat_minor": 2
}
